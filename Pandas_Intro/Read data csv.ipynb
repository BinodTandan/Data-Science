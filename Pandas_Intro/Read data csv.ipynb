{
 "cells": [
  {
   "cell_type": "code",
   "execution_count": 1,
   "metadata": {},
   "outputs": [],
   "source": [
    "import pandas as pd"
   ]
  },
  {
   "cell_type": "code",
   "execution_count": 2,
   "metadata": {},
   "outputs": [],
   "source": [
    "df = pd.read_csv('data.csv')"
   ]
  },
  {
   "cell_type": "code",
   "execution_count": 4,
   "metadata": {
    "scrolled": false
   },
   "outputs": [
    {
     "data": {
      "text/html": [
       "<div>\n",
       "<style scoped>\n",
       "    .dataframe tbody tr th:only-of-type {\n",
       "        vertical-align: middle;\n",
       "    }\n",
       "\n",
       "    .dataframe tbody tr th {\n",
       "        vertical-align: top;\n",
       "    }\n",
       "\n",
       "    .dataframe thead th {\n",
       "        text-align: right;\n",
       "    }\n",
       "</style>\n",
       "<table border=\"1\" class=\"dataframe\">\n",
       "  <thead>\n",
       "    <tr style=\"text-align: right;\">\n",
       "      <th></th>\n",
       "      <th>Date</th>\n",
       "      <th>Open</th>\n",
       "      <th>High</th>\n",
       "      <th>Low</th>\n",
       "      <th>Close</th>\n",
       "      <th>Shares Traded</th>\n",
       "      <th>Turnover (Rs. Cr)</th>\n",
       "    </tr>\n",
       "  </thead>\n",
       "  <tbody>\n",
       "    <tr>\n",
       "      <td>0</td>\n",
       "      <td>03-Jan-2022</td>\n",
       "      <td>17387.15</td>\n",
       "      <td>17646.65</td>\n",
       "      <td>17383.30</td>\n",
       "      <td>17625.70</td>\n",
       "      <td>200456430</td>\n",
       "      <td>16181.36</td>\n",
       "    </tr>\n",
       "    <tr>\n",
       "      <td>1</td>\n",
       "      <td>04-Jan-2022</td>\n",
       "      <td>17681.40</td>\n",
       "      <td>17827.60</td>\n",
       "      <td>17593.55</td>\n",
       "      <td>17805.25</td>\n",
       "      <td>247437472</td>\n",
       "      <td>18604.16</td>\n",
       "    </tr>\n",
       "    <tr>\n",
       "      <td>2</td>\n",
       "      <td>05-Jan-2022</td>\n",
       "      <td>17820.10</td>\n",
       "      <td>17944.70</td>\n",
       "      <td>17748.85</td>\n",
       "      <td>17925.25</td>\n",
       "      <td>251460038</td>\n",
       "      <td>23737.31</td>\n",
       "    </tr>\n",
       "    <tr>\n",
       "      <td>3</td>\n",
       "      <td>06-Jan-2022</td>\n",
       "      <td>17768.50</td>\n",
       "      <td>17797.95</td>\n",
       "      <td>17655.55</td>\n",
       "      <td>17745.90</td>\n",
       "      <td>236454824</td>\n",
       "      <td>22643.82</td>\n",
       "    </tr>\n",
       "    <tr>\n",
       "      <td>4</td>\n",
       "      <td>07-Jan-2022</td>\n",
       "      <td>17797.60</td>\n",
       "      <td>17905.00</td>\n",
       "      <td>17704.55</td>\n",
       "      <td>17812.70</td>\n",
       "      <td>239338015</td>\n",
       "      <td>21447.89</td>\n",
       "    </tr>\n",
       "  </tbody>\n",
       "</table>\n",
       "</div>"
      ],
      "text/plain": [
       "          Date      Open      High       Low     Close  Shares Traded  \\\n",
       "0  03-Jan-2022  17387.15  17646.65  17383.30  17625.70      200456430   \n",
       "1  04-Jan-2022  17681.40  17827.60  17593.55  17805.25      247437472   \n",
       "2  05-Jan-2022  17820.10  17944.70  17748.85  17925.25      251460038   \n",
       "3  06-Jan-2022  17768.50  17797.95  17655.55  17745.90      236454824   \n",
       "4  07-Jan-2022  17797.60  17905.00  17704.55  17812.70      239338015   \n",
       "\n",
       "   Turnover (Rs. Cr)  \n",
       "0           16181.36  \n",
       "1           18604.16  \n",
       "2           23737.31  \n",
       "3           22643.82  \n",
       "4           21447.89  "
      ]
     },
     "execution_count": 4,
     "metadata": {},
     "output_type": "execute_result"
    }
   ],
   "source": [
    "df.head(5)"
   ]
  },
  {
   "cell_type": "code",
   "execution_count": 5,
   "metadata": {},
   "outputs": [
    {
     "name": "stdout",
     "output_type": "stream",
     "text": [
      "object\n"
     ]
    }
   ],
   "source": [
    "print(df['Date'].dtype)"
   ]
  },
  {
   "cell_type": "code",
   "execution_count": 6,
   "metadata": {},
   "outputs": [
    {
     "name": "stdout",
     "output_type": "stream",
     "text": [
      "float64\n"
     ]
    }
   ],
   "source": [
    "print(df['Open'].dtype)"
   ]
  },
  {
   "cell_type": "code",
   "execution_count": 8,
   "metadata": {},
   "outputs": [
    {
     "name": "stdout",
     "output_type": "stream",
     "text": [
      "0     200456430\n",
      "1     247437472\n",
      "2     251460038\n",
      "3     236454824\n",
      "4     239338015\n",
      "        ...    \n",
      "75    275685925\n",
      "76    261065753\n",
      "77    265140480\n",
      "78    312914417\n",
      "79    336243642\n",
      "Name: Shares Traded, Length: 80, dtype: int64\n"
     ]
    }
   ],
   "source": [
    "print(df['Shares Traded'])"
   ]
  },
  {
   "cell_type": "code",
   "execution_count": null,
   "metadata": {},
   "outputs": [],
   "source": []
  },
  {
   "cell_type": "code",
   "execution_count": null,
   "metadata": {},
   "outputs": [],
   "source": []
  }
 ],
 "metadata": {
  "kernelspec": {
   "display_name": "Python 3",
   "language": "python",
   "name": "python3"
  },
  "language_info": {
   "codemirror_mode": {
    "name": "ipython",
    "version": 3
   },
   "file_extension": ".py",
   "mimetype": "text/x-python",
   "name": "python",
   "nbconvert_exporter": "python",
   "pygments_lexer": "ipython3",
   "version": "3.7.4"
  }
 },
 "nbformat": 4,
 "nbformat_minor": 2
}
